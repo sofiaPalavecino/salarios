{
 "cells": [
  {
   "metadata": {
    "ExecuteTime": {
     "end_time": "2024-12-19T03:54:06.159650Z",
     "start_time": "2024-12-19T03:54:06.138063Z"
    }
   },
   "cell_type": "code",
   "source": [
    "#Cuántas horas trabajás por semana aproximadamente\n",
    "#Tu empleador te paga el monotributo\n",
    "\n",
    "import pandas as pd\n",
    "import unidecode\n",
    "import matplotlib.pyplot as plt1\n",
    "import matplotlib.pyplot as plt2\n",
    "import numpy as np\n",
    "\n",
    "categories = {\n",
    "    \"PyMEs y Cooperativas\": [\n",
    "        \"Cooperativa\", \"Empresa Nacional PyME\", \"Consultora Nacional PyME\",\n",
    "        \"Constructora Nacional PyME\", \"Trabajo para una persona\", \"Constructora Nacional Chica\"\n",
    "    ],\n",
    "    \"Grandes Empresas Nacionales\": [\n",
    "        \"Empresa Nacional Grande\", \"Constructora Nacional Grande\",\n",
    "        \"Comitente Nacional Grande\", \"Loma Negra\", \"Empresa de energía\", \"Empresa de Energía\"\n",
    "    ],\n",
    "    \"Multinacionales\": [\n",
    "        \"Empresa Multinacional\", \"Constructora Extranjera\", \"Consultora Extranjera\",\n",
    "        \"Multinacional\", \"S.A. proveedor extranjera filial local\",\n",
    "        \"Empresa internacional de real estate state\",\n",
    "        \"Multinacional proveedora de herramientas y anclajes\",\n",
    "        \"Venta de productos para construccion multinacional\", \"Holding\"\n",
    "    ],\n",
    "    \"Sector Público\": [\n",
    "        \"Administración Pública\", \"Estado\", \"Contratista de empresa del estado\"\n",
    "    ],\n",
    "    \"Construcción e Infraestructura\": [\n",
    "        \"Constructora Nacional Grande\", \"Constructora Nacional PyME\", \"Constructora Extranjera\",\n",
    "        \"Desarrolladora\", \"Contratista\", \"Instalaciónes termomecanicas\", \"Fábrica grande\"\n",
    "    ],\n",
    "    \"Energía, Minería y Recursos Naturales\": [\n",
    "        \"Empresa de energía\", \"Empresa de Energía\", \"Minera\"\n",
    "    ],\n",
    "    \"Industria Farmacéutica y Laboratorios\": [\n",
    "        \"Farmacéutica nacional\", \"Laboratorio\"\n",
    "    ],\n",
    "    \"Logística y Transporte\": [\n",
    "        \"Aeropuertos\", \"Puerto\", \"Ferroviario\"\n",
    "    ],\n",
    "    \"Ambiental\": [\n",
    "        \"Ambiental\"\n",
    "    ],\n",
    "    \"Otros/No contesta\": [\n",
    "        np.nan  # np.nan para incluir valores nulos\n",
    "    ]\n",
    "}\n",
    "\n",
    "def standarize_text(text):\n",
    "    if text == 'Ing Naval':\n",
    "        text = 'naval'\n",
    "    return unidecode.unidecode(text).lower().strip()\n",
    "\n",
    "def calculate_pay_per_hours_ratio(df):\n",
    "    df = df.copy()\n",
    "    df['calculated_pay_per_hour'] = round(df['monthly_salary'] / ( df['hours_per_week'] * 4), 2)\n",
    "    return df\n",
    "\n",
    "def get_avg_pay_per_hour_by_career(df, contract_type):\n",
    "    grouped_data_by_career = df.groupby('career')\n",
    "\n",
    "    # Apply aggregation (e.g., calculate the mean pay per hour for each career)\n",
    "    #avg_payment = grouped_data_by_career['calculated_pay_per_hour'].mean()\n",
    "\n",
    "    aggregated = grouped_data_by_career.agg({\n",
    "        'calculated_pay_per_hour': 'mean',\n",
    "        'monthly_salary': 'mean',\n",
    "        'hours_per_week': 'mean',\n",
    "    })\n",
    "\n",
    "    aggregated = aggregated.round(2)\n",
    "\n",
    "    # Convert the aggregated result to a DataFrame (optional)\n",
    "    avg_payment_df = aggregated.reset_index()\n",
    "\n",
    "    # Save the result to a CSV file\n",
    "    #avg_payment_df.to_csv(f\"grouped_by_career_{contract_type}.csv\", index=False)\n",
    "\n",
    "def assign_category(employer):\n",
    "    for category, values in categories.items():\n",
    "        if employer in values:\n",
    "            return category\n",
    "    return \"Otros/No contesta\"\n",
    "\n",
    "salarios = pd.read_csv(\"Salarios_Simplificado.csv\", sep=\",\", engine=\"python\")\n"
   ],
   "outputs": [],
   "execution_count": 68
  },
  {
   "metadata": {},
   "cell_type": "markdown",
   "source": "#### Cuánto vale la \"hora hombre\" trabajando en relación de dependencia y trabajando freelance"
  },
  {
   "cell_type": "code",
   "metadata": {
    "ExecuteTime": {
     "end_time": "2024-12-19T03:54:06.211761Z",
     "start_time": "2024-12-19T03:54:06.192229Z"
    }
   },
   "source": [
    "#Remuneración mensual\n",
    "salarios = salarios.rename(columns={\n",
    "    'Marca temporal': 'timestamp',\n",
    "    'Cuál es tu nivel de estudios': 'study_level',\n",
    "    'Qué ingeniería estudias/estudiaste': 'career',\n",
    "    'En qué universidad cursas/cursaste tu carrera de grado': 'university',\n",
    "    'Género': 'gender',\n",
    "    'Trabajás en el rubro de la ingeniería que estudias/estudiaste': 'works_in_field',\n",
    "    'Tenés más de un trabajo': 'more_one_job',\n",
    "    'Cuál es tu situación particular de contratación': 'contract_type',\n",
    "    'Es tu primer trabajo en el rubro': 'first_job',\n",
    "    'Tu empleador te paga el monotributo': 'monotibuto',\n",
    "    'Tu empleador respeta alguno de los siguientes derechos laborales': 'labor_rights',\n",
    "    'Cuántas horas trabajás por semana aproximadamente': 'hours_per_week',\n",
    "    'Cuántos años de experiencia tenés en el rol (o en el rubro pero que sumen para tu rol)': 'experience_years',\n",
    "    'Tenés otras personas a cargo': 'people_in_charge',\n",
    "    'Hacés home office': 'home_office',\n",
    "    'Te dan alguno de estos \"beneficios\"': 'benefits',\n",
    "    'Estás enmarcado/a en algún convenio': 'convenio',\n",
    "    'Te parece que la remuneración que recibís por tu trabajo es acorde a las horas que trabajás y las tareas que realizás': 'fair_pay_hours_tasks',\n",
    "    'Cómo definís cuánto cobrás tus trabajos': 'how_set_pay',\n",
    "    'Si podés definirlo: en promedio cuál es tu honorario por hora': 'avg_pay_per_hour',\n",
    "    'Si querés dejanos algún comentario': 'comments',\n",
    "    'Edad': 'age',\n",
    "    '¿tenés otros estudios relacionados con tu carrera': 'career_related_studies',\n",
    "    'Ubicación de tu trabajo': 'work_location',\n",
    "    'Empleador': 'employer',\n",
    "    'Remuneración mensual': 'monthly_salary',\n",
    "    'Sector': 'sector',\n",
    "    'Rol o área': 'role_or_area'\n",
    "})\n",
    "\n",
    "salarios['career'] = salarios['career'].apply(standarize_text)\n",
    "\n",
    "#print(salarios['career'].unique().tolist())\n",
    "#print(salarios['study_level'].unique().tolist())\n",
    "#print(salarios['contract_type'].unique().tolist())\n",
    "\n",
    "monotributistas = salarios.loc[salarios['contract_type']=='Monotributista']\n",
    "relacion_dependencia = salarios.loc[salarios['contract_type']=='Relación de dependencia registrada']\n",
    "informal = salarios.loc[salarios['contract_type']=='Informal']\n",
    "#13 + 564 + 92\n",
    "\n",
    "monotributistas = calculate_pay_per_hours_ratio(monotributistas)\n",
    "relacion_dependencia = calculate_pay_per_hours_ratio(relacion_dependencia)\n",
    "informal = calculate_pay_per_hours_ratio(informal)\n",
    "#print(monotributistas['calculated_pay_per_hour'])\n",
    "\n",
    "get_avg_pay_per_hour_by_career(monotributistas, 'monotributista')\n",
    "get_avg_pay_per_hour_by_career(informal, 'informal')\n",
    "get_avg_pay_per_hour_by_career(relacion_dependencia, 'relacion_dependencia')\n"
   ],
   "outputs": [],
   "execution_count": 69
  },
  {
   "metadata": {},
   "cell_type": "markdown",
   "source": "#### Cuánto cobran por rol, por sector de trabajo. Diseccionar por género"
  },
  {
   "metadata": {
    "ExecuteTime": {
     "end_time": "2024-12-19T03:54:06.278560Z",
     "start_time": "2024-12-19T03:54:06.248209Z"
    }
   },
   "cell_type": "code",
   "source": [
    "print((salarios['gender'].unique().tolist()))\n",
    "\n",
    "salarios[\"employer_category\"] = salarios[\"employer\"].apply(assign_category)\n",
    "\n",
    "salaries_per_employer_category = (\n",
    "    salarios.groupby(\"employer_category\")\n",
    "    .agg(\n",
    "        avg_salary=(\"monthly_salary\", lambda x: round(x.mean(), 2)),\n",
    "        avg_womens_salary=(\"monthly_salary\", lambda x: round(x[salarios[\"gender\"] == \"Mujer\"].mean(), 2)),\n",
    "        avg_mens_salary=(\"monthly_salary\", lambda x: round(x[salarios[\"gender\"] == \"Hombre\"].mean(), 2)),\n",
    "        avg_nonb_salary=(\"monthly_salary\", lambda x: round(x[salarios[\"gender\"] == 'X'].mean(), 2)),\n",
    "        count=(\"monthly_salary\", \"size\")\n",
    "    )\n",
    "    .reset_index()\n",
    ")\n",
    "\n",
    "salaries_per_employer_category.to_csv(f\"salaries_per_employer.csv\", index=False)"
   ],
   "outputs": [
    {
     "name": "stdout",
     "output_type": "stream",
     "text": [
      "['Mujer', 'Hombre', 'X']\n"
     ]
    }
   ],
   "execution_count": 70
  }
 ],
 "metadata": {
  "kernelspec": {
   "display_name": "Python 3 (ipykernel)",
   "language": "python",
   "name": "python3"
  },
  "language_info": {
   "codemirror_mode": {
    "name": "ipython",
    "version": 3
   },
   "file_extension": ".py",
   "mimetype": "text/x-python",
   "name": "python",
   "nbconvert_exporter": "python",
   "pygments_lexer": "ipython3",
   "version": "3.10.12"
  }
 },
 "nbformat": 4,
 "nbformat_minor": 1
}
