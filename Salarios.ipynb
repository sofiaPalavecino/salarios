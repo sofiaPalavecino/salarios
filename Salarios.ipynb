{
 "cells": [
  {
   "cell_type": "code",
   "metadata": {
    "ExecuteTime": {
     "end_time": "2024-12-11T04:29:15.224306Z",
     "start_time": "2024-12-11T04:29:15.213009Z"
    }
   },
   "source": [
    "#Cuántas horas trabajás por semana aproximadamente\n",
    "#Tu empleador te paga el monotributo\n",
    "\n",
    "import pandas as pd\n",
    "import matplotlib.pyplot as plt1\n",
    "import matplotlib.pyplot as plt2\n",
    "import numpy as np\n",
    "\n",
    "def calculate_pay_per_hours_ratio(df):\n",
    "    df['calculated_pay_per_hour'] = round(df['monthly_salary'] / ( df['hours_per_week'] * 4), 2)\n",
    "    return df\n",
    "\n",
    "def get_avg_pay_per_hour_by_career(df, contract_type):\n",
    "    grouped_data_by_career = df.groupby('career')\n",
    "\n",
    "    # Apply aggregation (e.g., calculate the mean pay per hour for each career)\n",
    "    #avg_payment = grouped_data_by_career['calculated_pay_per_hour'].mean()\n",
    "\n",
    "    aggregated = grouped_data_by_career.agg({\n",
    "        'calculated_pay_per_hour': 'mean',\n",
    "        'monthly_salary': 'mean',\n",
    "        'hours_per_week': 'mean',\n",
    "    })\n",
    "\n",
    "    aggregated = aggregated.round(2)\n",
    "\n",
    "    # Convert the aggregated result to a DataFrame (optional)\n",
    "    avg_payment_df = aggregated.reset_index()\n",
    "\n",
    "    # Save the result to a CSV file\n",
    "    avg_payment_df.to_csv(f\"grouped_by_career_{contract_type}.csv\", index=False)\n",
    "\n",
    "salarios = pd.read_csv(\"Salarios_Simplificado.csv\", sep=\",\", engine=\"python\")\n"
   ],
   "outputs": [],
   "execution_count": 27
  },
  {
   "cell_type": "markdown",
   "metadata": {},
   "source": [
    "- cuanto vale la \"hora hombre\" trabajando en relación de dependencia, y trabajando freelance"
   ]
  },
  {
   "cell_type": "code",
   "metadata": {
    "ExecuteTime": {
     "end_time": "2024-12-11T04:29:15.244397Z",
     "start_time": "2024-12-11T04:29:15.229927Z"
    }
   },
   "source": [
    "#Remuneración mensual\n",
    "salarios = salarios.rename(columns={\n",
    "    'Marca temporal': 'timestamp',\n",
    "    'Cuál es tu nivel de estudios': 'study_level',\n",
    "    'Qué ingeniería estudias/estudiaste': 'career',\n",
    "    'En qué universidad cursas/cursaste tu carrera de grado': 'university',\n",
    "    'Género': 'gender',\n",
    "    'Trabajás en el rubro de la ingeniería que estudias/estudiaste': 'works_in_field',\n",
    "    'Tenés más de un trabajo': 'more_one_job',\n",
    "    'Cuál es tu situación particular de contratación': 'contract_type',\n",
    "    'Es tu primer trabajo en el rubro': 'first_job',\n",
    "    'Tu empleador te paga el monotributo': 'monotibuto',\n",
    "    'Tu empleador respeta alguno de los siguientes derechos laborales': 'labor_rights',\n",
    "    'Cuántas horas trabajás por semana aproximadamente': 'hours_per_week',\n",
    "    'Cuántos años de experiencia tenés en el rol (o en el rubro pero que sumen para tu rol)': 'experience_years',\n",
    "    'Tenés otras personas a cargo': 'people_in_charge',\n",
    "    'Hacés home office': 'home_office',\n",
    "    'Te dan alguno de estos \"beneficios\"': 'benefits',\n",
    "    'Estás enmarcado/a en algún convenio': 'convenio',\n",
    "    'Te parece que la remuneración que recibís por tu trabajo es acorde a las horas que trabajás y las tareas que realizás': 'fair_pay_hours_tasks',\n",
    "    'Cómo definís cuánto cobrás tus trabajos': 'how_set_pay',\n",
    "    'Si podés definirlo: en promedio cuál es tu honorario por hora': 'avg_pay_per_hour',\n",
    "    'Si querés dejanos algún comentario': 'comments',\n",
    "    'Edad': 'age',\n",
    "    '¿tenés otros estudios relacionados con tu carrera': 'career_related_studies',\n",
    "    'Ubicación de tu trabajo': 'work_location',\n",
    "    'Empleador': 'employer',\n",
    "    'Remuneración mensual': 'monthly_salary',\n",
    "    'Sector': 'sector',\n",
    "    'Rol o área': 'role_or_area'\n",
    "})\n",
    "\n",
    "#print(salarios['career'].unique().tolist())\n",
    "#print(salarios['study_level'].unique().tolist())\n",
    "#print(salarios['contract_type'].unique().tolist())\n",
    "\n",
    "monotributistas = salarios.loc[salarios['contract_type']=='Monotributista']\n",
    "relacion_dependencia = salarios.loc[salarios['contract_type']=='Relación de dependencia registrada']\n",
    "informal = salarios.loc[salarios['contract_type']=='Informal']\n",
    "#13 + 564 + 92\n",
    "\n",
    "monotributistas = calculate_pay_per_hours_ratio(monotributistas)\n",
    "relacion_dependencia = calculate_pay_per_hours_ratio(relacion_dependencia)\n",
    "informal = calculate_pay_per_hours_ratio(informal)\n",
    "#print(monotributistas['calculated_pay_per_hour'])\n",
    "\n",
    "get_avg_pay_per_hour_by_career(monotributistas, 'monotributista')\n",
    "get_avg_pay_per_hour_by_career(informal, 'informal')\n",
    "get_avg_pay_per_hour_by_career(relacion_dependencia, 'relacion_dependencia')\n"
   ],
   "outputs": [
    {
     "name": "stderr",
     "output_type": "stream",
     "text": [
      "/tmp/ipykernel_7821/581765648.py:10: SettingWithCopyWarning: \n",
      "A value is trying to be set on a copy of a slice from a DataFrame.\n",
      "Try using .loc[row_indexer,col_indexer] = value instead\n",
      "\n",
      "See the caveats in the documentation: https://pandas.pydata.org/pandas-docs/stable/user_guide/indexing.html#returning-a-view-versus-a-copy\n",
      "  df['calculated_pay_per_hour'] = round(df['monthly_salary'] / ( df['hours_per_week'] * 4), 2)\n",
      "/tmp/ipykernel_7821/581765648.py:10: SettingWithCopyWarning: \n",
      "A value is trying to be set on a copy of a slice from a DataFrame.\n",
      "Try using .loc[row_indexer,col_indexer] = value instead\n",
      "\n",
      "See the caveats in the documentation: https://pandas.pydata.org/pandas-docs/stable/user_guide/indexing.html#returning-a-view-versus-a-copy\n",
      "  df['calculated_pay_per_hour'] = round(df['monthly_salary'] / ( df['hours_per_week'] * 4), 2)\n",
      "/tmp/ipykernel_7821/581765648.py:10: SettingWithCopyWarning: \n",
      "A value is trying to be set on a copy of a slice from a DataFrame.\n",
      "Try using .loc[row_indexer,col_indexer] = value instead\n",
      "\n",
      "See the caveats in the documentation: https://pandas.pydata.org/pandas-docs/stable/user_guide/indexing.html#returning-a-view-versus-a-copy\n",
      "  df['calculated_pay_per_hour'] = round(df['monthly_salary'] / ( df['hours_per_week'] * 4), 2)\n"
     ]
    }
   ],
   "execution_count": 28
  }
 ],
 "metadata": {
  "kernelspec": {
   "display_name": "Python 3 (ipykernel)",
   "language": "python",
   "name": "python3"
  },
  "language_info": {
   "codemirror_mode": {
    "name": "ipython",
    "version": 3
   },
   "file_extension": ".py",
   "mimetype": "text/x-python",
   "name": "python",
   "nbconvert_exporter": "python",
   "pygments_lexer": "ipython3",
   "version": "3.10.12"
  }
 },
 "nbformat": 4,
 "nbformat_minor": 1
}
